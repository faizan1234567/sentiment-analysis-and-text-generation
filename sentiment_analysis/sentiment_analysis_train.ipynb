{
  "cells": [
    {
      "cell_type": "markdown",
      "source": [
        "**Text Sentiment Analysis**\n",
        " -------------------------\n",
        " For sentiment analysis we are required to use the sarcasm news dataset. (given an input from the dataset/random input our code should tell if there is sarcasm in it or not.) (two portions in test file. 1 for performance metrics on running on test_set and one for random input from the user to detect sarcasm.)\n",
        "\n",
        "Author: Muhammad Faizan and syed Farrukh\n",
        "\n",
        "**The model architecture**\n",
        "\n",
        "![model_pic_task3.PNG](data:image/png;base64,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)\n",
        "\n",
        "*Department of Robotics & AI - School of Mechanical & Manufacturing Engineering, NUST*"
      ],
      "metadata": {
        "id": "baQIwgKXpOXr"
      }
    },
    {
      "cell_type": "code",
      "execution_count": null,
      "metadata": {
        "colab": {
          "base_uri": "https://localhost:8080/"
        },
        "id": "4gs9htvM7n_x",
        "outputId": "dcf4bfb5-7391-42db-f8e5-e96f585931ed"
      },
      "outputs": [
        {
          "output_type": "stream",
          "name": "stdout",
          "text": [
            "Colab only includes TensorFlow 2.x; %tensorflow_version has no effect.\n"
          ]
        }
      ],
      "source": [
        "# Run this to ensure TensorFlow 2.x is used\n",
        "try:\n",
        "  %tensorflow_version 2.x\n",
        "except Exception:\n",
        "  print(\"Using TensorFlow 1.x version\")"
      ]
    },
    {
      "cell_type": "markdown",
      "source": [
        "check if gpu is wroking"
      ],
      "metadata": {
        "id": "mWsy1x4fKfUy"
      }
    },
    {
      "cell_type": "code",
      "source": [
        "!nvidia-smi"
      ],
      "metadata": {
        "colab": {
          "base_uri": "https://localhost:8080/"
        },
        "id": "Ew5ZZN2MKb9X",
        "outputId": "3e8b4c4f-3dba-465a-d657-29cb10ceb78b"
      },
      "execution_count": null,
      "outputs": [
        {
          "output_type": "stream",
          "name": "stdout",
          "text": [
            "Mon Dec 25 08:49:08 2023       \n",
            "+---------------------------------------------------------------------------------------+\n",
            "| NVIDIA-SMI 535.104.05             Driver Version: 535.104.05   CUDA Version: 12.2     |\n",
            "|-----------------------------------------+----------------------+----------------------+\n",
            "| GPU  Name                 Persistence-M | Bus-Id        Disp.A | Volatile Uncorr. ECC |\n",
            "| Fan  Temp   Perf          Pwr:Usage/Cap |         Memory-Usage | GPU-Util  Compute M. |\n",
            "|                                         |                      |               MIG M. |\n",
            "|=========================================+======================+======================|\n",
            "|   0  Tesla T4                       Off | 00000000:00:04.0 Off |                    0 |\n",
            "| N/A   45C    P8               9W /  70W |      0MiB / 15360MiB |      0%      Default |\n",
            "|                                         |                      |                  N/A |\n",
            "+-----------------------------------------+----------------------+----------------------+\n",
            "                                                                                         \n",
            "+---------------------------------------------------------------------------------------+\n",
            "| Processes:                                                                            |\n",
            "|  GPU   GI   CI        PID   Type   Process name                            GPU Memory |\n",
            "|        ID   ID                                                             Usage      |\n",
            "|=======================================================================================|\n",
            "|  No running processes found                                                           |\n",
            "+---------------------------------------------------------------------------------------+\n"
          ]
        }
      ]
    },
    {
      "cell_type": "code",
      "source": [
        "%ls"
      ],
      "metadata": {
        "colab": {
          "base_uri": "https://localhost:8080/"
        },
        "id": "8Rn-0Oa0toN0",
        "outputId": "7791561e-2fb0-4b4d-a363-d4ee9ead4ef3"
      },
      "execution_count": null,
      "outputs": [
        {
          "output_type": "stream",
          "name": "stdout",
          "text": [
            "\u001b[0m\u001b[01;34msample_data\u001b[0m/\n"
          ]
        }
      ]
    },
    {
      "cell_type": "code",
      "source": [
        "%pwd"
      ],
      "metadata": {
        "colab": {
          "base_uri": "https://localhost:8080/",
          "height": 35
        },
        "id": "UNYzeZTzlmzP",
        "outputId": "95473363-bfdd-4af6-beca-cc1022bcb6bc"
      },
      "execution_count": null,
      "outputs": [
        {
          "output_type": "execute_result",
          "data": {
            "text/plain": [
              "'/content'"
            ],
            "application/vnd.google.colaboratory.intrinsic+json": {
              "type": "string"
            }
          },
          "metadata": {},
          "execution_count": 4
        }
      ]
    },
    {
      "cell_type": "code",
      "source": [
        "from google.colab import drive\n",
        "drive.mount('/gdrive')"
      ],
      "metadata": {
        "colab": {
          "base_uri": "https://localhost:8080/"
        },
        "id": "wmD-ppC5lYNc",
        "outputId": "ea0d731a-ef44-41e2-97f6-fa6f83cea942"
      },
      "execution_count": null,
      "outputs": [
        {
          "output_type": "stream",
          "name": "stdout",
          "text": [
            "Mounted at /gdrive\n"
          ]
        }
      ]
    },
    {
      "cell_type": "markdown",
      "source": [
        "Import necessary librararies"
      ],
      "metadata": {
        "id": "zypzc6odKv6n"
      }
    },
    {
      "cell_type": "code",
      "execution_count": null,
      "metadata": {
        "id": "XYYDvoskkE61"
      },
      "outputs": [],
      "source": [
        "# all imports\n",
        "import json\n",
        "import tensorflow as tf\n",
        "import nltk\n",
        "import pandas as pd\n",
        "from sklearn.metrics import classification_report\n",
        "from sklearn.metrics import accuracy_score\n",
        "from sklearn.preprocessing import LabelEncoder\n",
        "from sklearn.model_selection import train_test_split\n",
        "import math\n",
        "import re\n",
        "import os\n",
        "\n",
        "from tensorflow.keras.preprocessing.text import Tokenizer\n",
        "from tensorflow.keras.preprocessing.sequence import pad_sequences\n"
      ]
    },
    {
      "cell_type": "markdown",
      "source": [
        "**1. Data preprocessing**\n",
        "\n",
        "- Lower casing\n",
        "- Removing HTML tags and URLs from the text\n",
        "- Stop words removal\n",
        "- Lemmization\n",
        "- Dataset split\n",
        "- Tokenization\n",
        "- Sequence Padding"
      ],
      "metadata": {
        "id": "N9ofjQkVK4wf"
      }
    },
    {
      "cell_type": "markdown",
      "source": [
        "Loading the dataset"
      ],
      "metadata": {
        "id": "AbEuajQ9LLD-"
      }
    },
    {
      "cell_type": "code",
      "source": [
        "# path to sarcasm dataset path in json format\n",
        "dataset_path = '/gdrive/MyDrive/DL_mini_project/datasets/sarcasm.json'\n",
        "\n",
        "if os.path.exists(dataset_path):\n",
        "  print('the path exists')\n",
        "else:\n",
        "  print('Ensure the path is correct.')\n"
      ],
      "metadata": {
        "colab": {
          "base_uri": "https://localhost:8080/"
        },
        "id": "MIyj_VximQrD",
        "outputId": "81924bcc-803d-456e-d91b-fe4ed96e3652"
      },
      "execution_count": null,
      "outputs": [
        {
          "output_type": "stream",
          "name": "stdout",
          "text": [
            "the path exists\n"
          ]
        }
      ]
    },
    {
      "cell_type": "code",
      "execution_count": null,
      "metadata": {
        "id": "oaLaaqhNkUPd"
      },
      "outputs": [],
      "source": [
        "# read json file and separte the headlines from the labels (sarcasm and non sarcasm)\n",
        "with open(dataset_path, 'r') as f:\n",
        "    datastore = json.load(f)\n",
        "\n",
        "sentences = []\n",
        "labels = []\n",
        "\n",
        "for item in datastore:\n",
        "    sentences.append(item['headline'])\n",
        "    labels.append(item['is_sarcastic'])"
      ]
    },
    {
      "cell_type": "code",
      "source": [
        "\n",
        "print(len(sentences))"
      ],
      "metadata": {
        "id": "kQvwuPKBfhLb",
        "colab": {
          "base_uri": "https://localhost:8080/"
        },
        "outputId": "50f9f613-6848-4760-d1d9-ffaeda36f303"
      },
      "execution_count": null,
      "outputs": [
        {
          "output_type": "stream",
          "name": "stdout",
          "text": [
            "26709\n"
          ]
        }
      ]
    },
    {
      "cell_type": "markdown",
      "source": [
        "\n",
        "**1. Removing tags and URLs from the text**\n",
        "\n",
        "we need to remove HTML tags, URLs, and non-alphanumeric characters from the reviews. We do that with the help of the remove_tags function, and Regex functions are used for easy string manipulation."
      ],
      "metadata": {
        "id": "f-Yh_MHEZaYK"
      }
    },
    {
      "cell_type": "code",
      "source": [
        "# remove HTML and URL tags from the text if they exists\n",
        "def remove_tags(string):\n",
        "    removelist = \"\"\n",
        "    result = re.sub('','',string)          #remove HTML tags\n",
        "    result = re.sub('https://.*','',result)   #remove URLs\n",
        "    result = result.lower()\n",
        "    return result\n",
        "tagsfree_sentences= [remove_tags(sentence) for sentence in sentences]"
      ],
      "metadata": {
        "id": "1Kq89UrIUQZN"
      },
      "execution_count": null,
      "outputs": []
    },
    {
      "cell_type": "code",
      "source": [
        "for i, sent in enumerate(tagsfree_sentences):\n",
        "  print(sent)\n",
        "  if i == 5:\n",
        "    break"
      ],
      "metadata": {
        "colab": {
          "base_uri": "https://localhost:8080/"
        },
        "id": "_xZNQ1GoU-qt",
        "outputId": "56a4c306-f795-433c-9231-ba46942c9ba1"
      },
      "execution_count": null,
      "outputs": [
        {
          "output_type": "stream",
          "name": "stdout",
          "text": [
            "former versace store clerk sues over secret 'black code' for minority shoppers\n",
            "the 'roseanne' revival catches up to our thorny political mood, for better and worse\n",
            "mom starting to fear son's web series closest thing she will have to grandchild\n",
            "boehner just wants wife to listen, not come up with alternative debt-reduction ideas\n",
            "j.k. rowling wishes snape happy birthday in the most magical way\n",
            "advancing the world's women\n"
          ]
        }
      ]
    },
    {
      "cell_type": "markdown",
      "source": [
        "**2. Stop Words removal**\n",
        "\n",
        "Stopwords are commonly used words like ‘and’, ‘the’, ‘at’ that do not add any special meaning or significance to a sentence. A list of stopwords are available with nltk, and they can be removed from the corpus using the following code"
      ],
      "metadata": {
        "id": "HgiEuoP7ZPad"
      }
    },
    {
      "cell_type": "code",
      "source": [
        "# removing stopwords from the text\n",
        "nltk.download('stopwords')\n",
        "from nltk.corpus import stopwords\n",
        "stop_words = set(stopwords.words('english'))\n",
        "\n",
        "def remove_stop_words(sentence):\n",
        "  processed = []\n",
        "  for word in sentence.split():\n",
        "    if word not in stop_words:\n",
        "      processed.append(word)\n",
        "  return ' '.join(processed)\n",
        "\n",
        "\n",
        "processed_stopwords_tags_sentences = [remove_stop_words(sentence) for sentence in tagsfree_sentences]\n"
      ],
      "metadata": {
        "colab": {
          "base_uri": "https://localhost:8080/"
        },
        "id": "B_cMpnH6WMpH",
        "outputId": "51ca4865-c752-4519-9376-bd7a5c884447"
      },
      "execution_count": null,
      "outputs": [
        {
          "output_type": "stream",
          "name": "stderr",
          "text": [
            "[nltk_data] Downloading package stopwords to /root/nltk_data...\n",
            "[nltk_data]   Package stopwords is already up-to-date!\n"
          ]
        }
      ]
    },
    {
      "cell_type": "markdown",
      "source": [
        "**3. Lemmatization**\n",
        "\n",
        " Lemmatization is a useful technique in NLP to obtain the root form of words, known as lemmas. For example, the lemma of the words reading, reads, read is read. This helps save unnecessary computational overhead in trying to decipher entire words, as the meanings of most words are well-expressed by their separate lemmas. We perform lemmatization using the WordNetLemmatizer() from nltk. The text is first broken into individual words using the WhitespaceTokenizer() from nltk. We write a function lemmatize_text to perform lemmatization on the individual tokens."
      ],
      "metadata": {
        "id": "xipj13M_ZDEc"
      }
    },
    {
      "cell_type": "code",
      "source": [
        "# perform lemmizataion\n",
        "w_tokenizer = nltk.tokenize.WhitespaceTokenizer()\n",
        "lemmatizer = nltk.stem.WordNetLemmatizer()\n",
        "nltk.download('wordnet')\n",
        "def lemmatize_text(text):\n",
        "    st = \"\"\n",
        "    for w in w_tokenizer.tokenize(text):\n",
        "        st = st + lemmatizer.lemmatize(w) + \" \"\n",
        "    return st\n",
        "lemmizated_and_processed_sents = [lemmatize_text(sent) for sent in processed_stopwords_tags_sentences]"
      ],
      "metadata": {
        "colab": {
          "base_uri": "https://localhost:8080/"
        },
        "id": "AnECsVxNY2Kf",
        "outputId": "ef744a8b-05b8-41ea-c8c9-0d1be01c83f9"
      },
      "execution_count": null,
      "outputs": [
        {
          "output_type": "stream",
          "name": "stderr",
          "text": [
            "[nltk_data] Downloading package wordnet to /root/nltk_data...\n",
            "[nltk_data]   Package wordnet is already up-to-date!\n"
          ]
        }
      ]
    },
    {
      "cell_type": "code",
      "source": [
        "# print some statistics about the data\n",
        "z = 0.0\n",
        "for i in lemmizated_and_processed_sents:\n",
        "    word_list = i.split()\n",
        "    z =  z + len(word_list)\n",
        "print(\"Average length of each review : \",z/len(lemmizated_and_processed_sents))"
      ],
      "metadata": {
        "colab": {
          "base_uri": "https://localhost:8080/"
        },
        "id": "X32lgalTavvx",
        "outputId": "ab1a04cc-06d0-4bd0-adfd-a3ea6832b51f"
      },
      "execution_count": null,
      "outputs": [
        {
          "output_type": "stream",
          "name": "stdout",
          "text": [
            "Average length of each review :  7.148376951589352\n"
          ]
        }
      ]
    },
    {
      "cell_type": "code",
      "source": [
        "pos = 0\n",
        "for i in range(len(lemmizated_and_processed_sents)):\n",
        "    if labels[i] == 1:\n",
        "        pos = pos + 1\n",
        "neg = len(lemmizated_and_processed_sents)-pos\n",
        "print(\"Percentage of reviews with positive sentiment is \"+str(pos/len(lemmizated_and_processed_sents)*100)+\"%\")\n",
        "print(\"Percentage of reviews with negative sentiment is \"+str(neg/len(lemmizated_and_processed_sents)*100)+\"%\")"
      ],
      "metadata": {
        "colab": {
          "base_uri": "https://localhost:8080/"
        },
        "id": "dq_IMS17bXWz",
        "outputId": "5efe2ca2-4e14-4f2e-f8ad-cd131199d9d5"
      },
      "execution_count": null,
      "outputs": [
        {
          "output_type": "stream",
          "name": "stdout",
          "text": [
            "Percentage of reviews with positive sentiment is 43.89531618555543%\n",
            "Percentage of reviews with negative sentiment is 56.10468381444457%\n"
          ]
        }
      ]
    },
    {
      "cell_type": "markdown",
      "source": [
        "**4. splitting the dataset**\n",
        "\n",
        "split the dataset into training and testing with 80% and 20% ratio for each train and test respectively"
      ],
      "metadata": {
        "id": "H-pHVhcvceMI"
      }
    },
    {
      "cell_type": "code",
      "source": [
        "# hyperparameters\n",
        "#-----------------\n",
        "vocab_size = 5000\n",
        "embedding_dim = 100\n",
        "max_length = 200\n",
        "trunc_type='post'\n",
        "padding_type='post'\n",
        "oov_tok = \"<OOV>\"\n",
        "training_size = 0.7\n",
        "validation_size = 0.15\n",
        "test_size = 0.15"
      ],
      "metadata": {
        "id": "oHD9JrPLc5lX"
      },
      "execution_count": null,
      "outputs": []
    },
    {
      "cell_type": "markdown",
      "source": [
        "randomly shuffle the dataset and then split it into train, test, and validation"
      ],
      "metadata": {
        "id": "4Z3lMAZ8OL3h"
      }
    },
    {
      "cell_type": "code",
      "source": [
        "import random\n",
        "\n",
        "combined_data = list(zip(lemmizated_and_processed_sents, labels))\n",
        "\n",
        "random.shuffle(combined_data)\n",
        "\n",
        "lemmizated_and_processed_sents, labels = zip(*combined_data)\n",
        "lemmizated_and_processed_sents, labels = list(lemmizated_and_processed_sents), list(labels)"
      ],
      "metadata": {
        "id": "ZR2EEtPgNpZQ"
      },
      "execution_count": null,
      "outputs": []
    },
    {
      "cell_type": "code",
      "source": [
        "\n",
        "# split into training and teseting sets\n",
        "training_length = int(len(labels) * training_size)\n",
        "validation_length = int(training_length + len(labels) * validation_size)\n",
        "training_sentences = lemmizated_and_processed_sents[0:training_length]\n",
        "validation_sentences = lemmizated_and_processed_sents[training_length:validation_length]\n",
        "test_sentences = lemmizated_and_processed_sents[validation_length:]\n",
        "\n",
        "training_labels = labels[0:training_length]\n",
        "validation_labels = labels[training_length:validation_length]\n",
        "test_labels = labels[validation_length:]"
      ],
      "metadata": {
        "id": "cRZBxgopcYzp"
      },
      "execution_count": null,
      "outputs": []
    },
    {
      "cell_type": "code",
      "source": [
        "print(f'all dataset size: {len(lemmizated_and_processed_sents)}')\n",
        "print(f'training set size: {len(training_sentences)}')\n",
        "print(f'validation set size: {len(validation_sentences)}')\n",
        "print(f'test set size: {len(test_sentences)}')"
      ],
      "metadata": {
        "colab": {
          "base_uri": "https://localhost:8080/"
        },
        "id": "Vw2YYn3SMuhw",
        "outputId": "3ff8b8e8-3621-428f-c929-abf7b4939c10"
      },
      "execution_count": null,
      "outputs": [
        {
          "output_type": "stream",
          "name": "stdout",
          "text": [
            "all dataset size: 26709\n",
            "training set size: 18696\n",
            "validation set size: 4006\n",
            "test set size: 4007\n"
          ]
        }
      ]
    },
    {
      "cell_type": "markdown",
      "source": [
        "**Tokenization**\n",
        "\n",
        "tokenize the text and pad the sequence to have a uniform length"
      ],
      "metadata": {
        "id": "FIMi9PFOiBb4"
      }
    },
    {
      "cell_type": "code",
      "execution_count": null,
      "metadata": {
        "id": "3u8UB0MCkZ5N"
      },
      "outputs": [],
      "source": [
        "# tokenize the sentences such as headlines into words\n",
        "tokenizer = Tokenizer(num_words=vocab_size, oov_token=oov_tok)\n",
        "tokenizer.fit_on_texts(training_sentences)\n",
        "\n",
        "# words to integers mapping dict\n",
        "word_index = tokenizer.word_index\n",
        "\n",
        "# Training: Encode the text into numbers and pad the sequence with the maximum length in the sequence, truncate any longer sentence\n",
        "training_sequences = tokenizer.texts_to_sequences(training_sentences)\n",
        "training_padded = pad_sequences(training_sequences, maxlen=max_length, padding=padding_type, truncating=trunc_type)\n",
        "\n",
        "# Testing: Encode the text into numbers and pad the sequence with the maximum length in the sequence, truncate any longer sentence\n",
        "validation_sequences = tokenizer.texts_to_sequences(validation_sentences)\n",
        "validation_padded = pad_sequences(validation_sequences, maxlen=max_length, padding=padding_type, truncating=trunc_type)"
      ]
    },
    {
      "cell_type": "code",
      "source": [
        "# get sense what is going on in the dataset\n",
        "index = 100\n",
        "print(f'orginal sentence: {training_sentences[index]}')\n",
        "print(f'Is sarcastic: {training_labels[index]}')\n",
        "print(f'Encoded sequence: {training_sequences[index]}')\n",
        "print(f'Padded sequence: {training_padded[index]}')"
      ],
      "metadata": {
        "colab": {
          "base_uri": "https://localhost:8080/"
        },
        "id": "Ec7ni3Jhr4Hc",
        "outputId": "4fc8ca92-909e-4959-ab7e-cd5a3b17a465"
      },
      "execution_count": null,
      "outputs": [
        {
          "output_type": "stream",
          "name": "stdout",
          "text": [
            "orginal sentence: pre-existing condition anyway? \n",
            "Is sarcastic: 0\n",
            "Encoded sequence: [1549, 4286, 1222, 2151]\n",
            "Padded sequence: [1549 4286 1222 2151    0    0    0    0    0    0    0    0    0    0\n",
            "    0    0    0    0    0    0    0    0    0    0    0    0    0    0\n",
            "    0    0    0    0    0    0    0    0    0    0    0    0    0    0\n",
            "    0    0    0    0    0    0    0    0    0    0    0    0    0    0\n",
            "    0    0    0    0    0    0    0    0    0    0    0    0    0    0\n",
            "    0    0    0    0    0    0    0    0    0    0    0    0    0    0\n",
            "    0    0    0    0    0    0    0    0    0    0    0    0    0    0\n",
            "    0    0    0    0    0    0    0    0    0    0    0    0    0    0\n",
            "    0    0    0    0    0    0    0    0    0    0    0    0    0    0\n",
            "    0    0    0    0    0    0    0    0    0    0    0    0    0    0\n",
            "    0    0    0    0    0    0    0    0    0    0    0    0    0    0\n",
            "    0    0    0    0    0    0    0    0    0    0    0    0    0    0\n",
            "    0    0    0    0    0    0    0    0    0    0    0    0    0    0\n",
            "    0    0    0    0    0    0    0    0    0    0    0    0    0    0\n",
            "    0    0    0    0]\n"
          ]
        }
      ]
    },
    {
      "cell_type": "code",
      "execution_count": null,
      "metadata": {
        "id": "GrAlWBKf99Ya"
      },
      "outputs": [],
      "source": [
        "# convert the TensorFlow tensors to numpy arrays\n",
        "import numpy as np\n",
        "training_padded = np.array(training_padded)\n",
        "training_labels = np.array(training_labels)\n",
        "validation_padded = np.array(validation_padded)\n",
        "validation_labels = np.array(validation_labels)\n"
      ]
    },
    {
      "cell_type": "markdown",
      "source": [
        "**Define models**\n",
        "\n",
        "1. Simple MLP\n",
        "2. LSTM and MLP based hybrid model\n",
        "\n",
        "\n"
      ],
      "metadata": {
        "id": "DudmYRPEiOA-"
      }
    },
    {
      "cell_type": "code",
      "source": [
        "# defining custom loss fuction to increase regularization effect\n",
        "# to minimize\n",
        "def regularization_term(true, prediction):\n",
        "    order = list(range(1,4))\n",
        "    order.append(0)\n",
        "    order = tf.constant(order, dtype=tf.float32)\n",
        "\n",
        "    deviation = (true*true[:,order]) - (prediction*prediction[:,order])\n",
        "    deviation = abs(deviation)**2\n",
        "    return 0.2 * deviation\n",
        "\n",
        "def my_custom_loss(y_true, y_pred):\n",
        "    return tf.keras.losses.BinaryCrossentropy()(y_true, y_pred) + regularization_term(y_true, y_pred)\n"
      ],
      "metadata": {
        "id": "DQGLLCLlnZuj"
      },
      "execution_count": null,
      "outputs": []
    },
    {
      "cell_type": "code",
      "execution_count": null,
      "metadata": {
        "id": "FufaT4vlkiDE"
      },
      "outputs": [],
      "source": [
        "# define the model using Simple MLP\n",
        "model_mlp = tf.keras.Sequential([\n",
        "    tf.keras.layers.Embedding(vocab_size, embedding_dim, input_length=max_length),\n",
        "    tf.keras.layers.GlobalAveragePooling1D(),\n",
        "    tf.keras.layers.Dense(128, activation='relu', activity_regularizer=tf.keras.regularizers.L2(0.01)),\n",
        "    tf.keras.layers.Dropout(0.3),\n",
        "    tf.keras.layers.Dense(64, activation='relu', activity_regularizer=tf.keras.regularizers.L2(0.03)),\n",
        "    tf.keras.layers.Dense(32, activation='relu'),\n",
        "    tf.keras.layers.Dropout(0.2),\n",
        "    tf.keras.layers.Dense(1, activation='sigmoid')\n",
        "])\n",
        "#model_mlp.compile(optimizer='Adam', loss=my_custom_loss, metrics = ['accuracy'])\n",
        "model_mlp.compile(loss='binary_crossentropy',optimizer='adam',metrics=['accuracy'])"
      ]
    },
    {
      "cell_type": "code",
      "source": [
        "model_lstm = tf.keras.Sequential([\n",
        "    tf.keras.layers.Embedding(vocab_size, embedding_dim, input_length=max_length),\n",
        "    tf.keras.layers.Bidirectional(tf.keras.layers.LSTM(64)),\n",
        "    tf.keras.layers.Dense(24, activation='relu'),\n",
        "    tf.keras.layers.Dropout(0.3),\n",
        "    tf.keras.layers.Dense(1, activation='sigmoid')\n",
        "])\n",
        "\n",
        "# compile model\n",
        "model_lstm.compile(loss='binary_crossentropy',\n",
        "              optimizer='adam',\n",
        "              metrics=['accuracy'])"
      ],
      "metadata": {
        "id": "_UVUCz9Td69I"
      },
      "execution_count": null,
      "outputs": []
    },
    {
      "cell_type": "code",
      "execution_count": null,
      "metadata": {
        "colab": {
          "base_uri": "https://localhost:8080/"
        },
        "id": "XfDt1hmYkiys",
        "outputId": "18187bde-2bbd-4f30-e632-7b57808e2d56"
      },
      "outputs": [
        {
          "output_type": "stream",
          "name": "stdout",
          "text": [
            "Model: \"sequential_2\"\n",
            "_________________________________________________________________\n",
            " Layer (type)                Output Shape              Param #   \n",
            "=================================================================\n",
            " embedding_2 (Embedding)     (None, 200, 100)          500000    \n",
            "                                                                 \n",
            " global_average_pooling1d_1  (None, 100)               0         \n",
            "  (GlobalAveragePooling1D)                                       \n",
            "                                                                 \n",
            " dense_6 (Dense)             (None, 128)               12928     \n",
            "                                                                 \n",
            " dropout_3 (Dropout)         (None, 128)               0         \n",
            "                                                                 \n",
            " dense_7 (Dense)             (None, 64)                8256      \n",
            "                                                                 \n",
            " dense_8 (Dense)             (None, 32)                2080      \n",
            "                                                                 \n",
            " dropout_4 (Dropout)         (None, 32)                0         \n",
            "                                                                 \n",
            " dense_9 (Dense)             (None, 1)                 33        \n",
            "                                                                 \n",
            "=================================================================\n",
            "Total params: 523297 (2.00 MB)\n",
            "Trainable params: 523297 (2.00 MB)\n",
            "Non-trainable params: 0 (0.00 Byte)\n",
            "_________________________________________________________________\n"
          ]
        }
      ],
      "source": [
        "model_mlp.summary()\n"
      ]
    },
    {
      "cell_type": "code",
      "source": [
        "model_lstm.summary()"
      ],
      "metadata": {
        "id": "2pWFTi2AeeGg",
        "colab": {
          "base_uri": "https://localhost:8080/"
        },
        "outputId": "06ba4dca-21af-4385-b179-230b280775b6"
      },
      "execution_count": null,
      "outputs": [
        {
          "output_type": "stream",
          "name": "stdout",
          "text": [
            "Model: \"sequential_3\"\n",
            "_________________________________________________________________\n",
            " Layer (type)                Output Shape              Param #   \n",
            "=================================================================\n",
            " embedding_3 (Embedding)     (None, 200, 100)          500000    \n",
            "                                                                 \n",
            " bidirectional_1 (Bidirecti  (None, 128)               84480     \n",
            " onal)                                                           \n",
            "                                                                 \n",
            " dense_10 (Dense)            (None, 24)                3096      \n",
            "                                                                 \n",
            " dropout_5 (Dropout)         (None, 24)                0         \n",
            "                                                                 \n",
            " dense_11 (Dense)            (None, 1)                 25        \n",
            "                                                                 \n",
            "=================================================================\n",
            "Total params: 587601 (2.24 MB)\n",
            "Trainable params: 587601 (2.24 MB)\n",
            "Non-trainable params: 0 (0.00 Byte)\n",
            "_________________________________________________________________\n"
          ]
        }
      ]
    },
    {
      "cell_type": "markdown",
      "source": [
        "**Training**\n",
        "\n",
        "train the given model for num_epochs and using the proprocessed text data along with the given label, train it on training data and validate on validation data"
      ],
      "metadata": {
        "id": "525gMEKAibIW"
      }
    },
    {
      "cell_type": "code",
      "execution_count": null,
      "metadata": {
        "colab": {
          "base_uri": "https://localhost:8080/"
        },
        "id": "2DTKQFf1kkyc",
        "outputId": "19a8e565-7334-4d70-d092-db27686d4fbd"
      },
      "outputs": [
        {
          "output_type": "stream",
          "name": "stdout",
          "text": [
            "Epoch 1/30\n",
            "585/585 - 12s - loss: 0.6859 - accuracy: 0.5603 - val_loss: 0.6797 - val_accuracy: 0.5584 - 12s/epoch - 21ms/step\n",
            "Epoch 2/30\n",
            "585/585 - 4s - loss: 0.5368 - accuracy: 0.7288 - val_loss: 0.4756 - val_accuracy: 0.7746 - 4s/epoch - 7ms/step\n",
            "Epoch 3/30\n",
            "585/585 - 4s - loss: 0.4109 - accuracy: 0.8201 - val_loss: 0.4920 - val_accuracy: 0.7611 - 4s/epoch - 7ms/step\n",
            "Epoch 4/30\n",
            "585/585 - 3s - loss: 0.3713 - accuracy: 0.8350 - val_loss: 0.5101 - val_accuracy: 0.7713 - 3s/epoch - 5ms/step\n",
            "Epoch 5/30\n",
            "585/585 - 3s - loss: 0.3347 - accuracy: 0.8596 - val_loss: 0.4747 - val_accuracy: 0.7783 - 3s/epoch - 5ms/step\n",
            "Epoch 6/30\n",
            "585/585 - 3s - loss: 0.3260 - accuracy: 0.8598 - val_loss: 0.4743 - val_accuracy: 0.7821 - 3s/epoch - 5ms/step\n",
            "Epoch 7/30\n",
            "585/585 - 4s - loss: 0.3054 - accuracy: 0.8665 - val_loss: 0.4977 - val_accuracy: 0.7703 - 4s/epoch - 7ms/step\n",
            "Epoch 8/30\n",
            "585/585 - 3s - loss: 0.2903 - accuracy: 0.8714 - val_loss: 0.5136 - val_accuracy: 0.7701 - 3s/epoch - 5ms/step\n",
            "Epoch 9/30\n",
            "585/585 - 3s - loss: 0.2804 - accuracy: 0.8776 - val_loss: 0.6317 - val_accuracy: 0.7716 - 3s/epoch - 5ms/step\n",
            "Epoch 10/30\n",
            "585/585 - 3s - loss: 0.2571 - accuracy: 0.8823 - val_loss: 0.5898 - val_accuracy: 0.7479 - 3s/epoch - 5ms/step\n",
            "Epoch 11/30\n",
            "585/585 - 4s - loss: 0.2493 - accuracy: 0.8799 - val_loss: 0.5613 - val_accuracy: 0.7406 - 4s/epoch - 6ms/step\n",
            "Epoch 12/30\n",
            "585/585 - 3s - loss: 0.2317 - accuracy: 0.8868 - val_loss: 0.7051 - val_accuracy: 0.7711 - 3s/epoch - 6ms/step\n",
            "Epoch 13/30\n",
            "585/585 - 3s - loss: 0.2214 - accuracy: 0.8899 - val_loss: 0.8116 - val_accuracy: 0.7599 - 3s/epoch - 5ms/step\n",
            "Epoch 14/30\n",
            "585/585 - 3s - loss: 0.2122 - accuracy: 0.8927 - val_loss: 0.7963 - val_accuracy: 0.7726 - 3s/epoch - 5ms/step\n",
            "Epoch 15/30\n",
            "585/585 - 3s - loss: 0.2137 - accuracy: 0.8902 - val_loss: 0.7174 - val_accuracy: 0.7484 - 3s/epoch - 6ms/step\n",
            "Epoch 16/30\n",
            "585/585 - 4s - loss: 0.1986 - accuracy: 0.8953 - val_loss: 0.7785 - val_accuracy: 0.7127 - 4s/epoch - 7ms/step\n",
            "Epoch 17/30\n",
            "585/585 - 3s - loss: 0.1999 - accuracy: 0.8949 - val_loss: 0.8906 - val_accuracy: 0.7451 - 3s/epoch - 5ms/step\n",
            "Epoch 18/30\n",
            "585/585 - 3s - loss: 0.1923 - accuracy: 0.8952 - val_loss: 1.1162 - val_accuracy: 0.7686 - 3s/epoch - 5ms/step\n",
            "Epoch 19/30\n",
            "585/585 - 3s - loss: 0.1911 - accuracy: 0.8998 - val_loss: 0.8926 - val_accuracy: 0.7454 - 3s/epoch - 5ms/step\n",
            "Epoch 20/30\n",
            "585/585 - 4s - loss: 0.1769 - accuracy: 0.9046 - val_loss: 0.9635 - val_accuracy: 0.7287 - 4s/epoch - 7ms/step\n",
            "Epoch 21/30\n",
            "585/585 - 3s - loss: 0.1817 - accuracy: 0.9020 - val_loss: 0.7670 - val_accuracy: 0.7394 - 3s/epoch - 5ms/step\n",
            "Epoch 22/30\n",
            "585/585 - 3s - loss: 0.1753 - accuracy: 0.9075 - val_loss: 0.9770 - val_accuracy: 0.7554 - 3s/epoch - 5ms/step\n",
            "Epoch 23/30\n",
            "585/585 - 3s - loss: 0.1635 - accuracy: 0.9135 - val_loss: 1.0517 - val_accuracy: 0.7479 - 3s/epoch - 4ms/step\n",
            "Epoch 24/30\n",
            "585/585 - 3s - loss: 0.1608 - accuracy: 0.9168 - val_loss: 0.9800 - val_accuracy: 0.7349 - 3s/epoch - 5ms/step\n",
            "Epoch 25/30\n",
            "585/585 - 4s - loss: 0.1644 - accuracy: 0.9163 - val_loss: 1.0126 - val_accuracy: 0.7384 - 4s/epoch - 6ms/step\n",
            "Epoch 26/30\n",
            "585/585 - 3s - loss: 0.1572 - accuracy: 0.9203 - val_loss: 1.0488 - val_accuracy: 0.7356 - 3s/epoch - 5ms/step\n",
            "Epoch 27/30\n",
            "585/585 - 3s - loss: 0.1523 - accuracy: 0.9228 - val_loss: 1.0207 - val_accuracy: 0.7307 - 3s/epoch - 5ms/step\n",
            "Epoch 28/30\n",
            "585/585 - 3s - loss: 0.1517 - accuracy: 0.9211 - val_loss: 1.1691 - val_accuracy: 0.7341 - 3s/epoch - 5ms/step\n",
            "Epoch 29/30\n",
            "585/585 - 3s - loss: 0.1365 - accuracy: 0.9307 - val_loss: 1.3703 - val_accuracy: 0.7604 - 3s/epoch - 6ms/step\n",
            "Epoch 30/30\n",
            "585/585 - 3s - loss: 0.1520 - accuracy: 0.9261 - val_loss: 1.2074 - val_accuracy: 0.7464 - 3s/epoch - 6ms/step\n"
          ]
        }
      ],
      "source": [
        "# train the model on the dataset with 3o epochs and validate on the validation dataset\n",
        "num_epochs = 30\n",
        "history = model_mlp.fit(training_padded, training_labels, epochs=num_epochs, validation_data=(validation_padded, validation_labels), verbose=2)"
      ]
    },
    {
      "cell_type": "markdown",
      "source": [
        "**Plotting**"
      ],
      "metadata": {
        "id": "l3A10WQeiooG"
      }
    },
    {
      "cell_type": "code",
      "source": [
        "!touch history.json"
      ],
      "metadata": {
        "id": "28UQzaMbGeru"
      },
      "execution_count": null,
      "outputs": []
    },
    {
      "cell_type": "code",
      "execution_count": null,
      "metadata": {
        "colab": {
          "base_uri": "https://localhost:8080/",
          "height": 881
        },
        "id": "2HYfBKXjkmU8",
        "outputId": "491e4b18-2b42-4012-f457-020b8134d82a"
      },
      "outputs": [
        {
          "output_type": "display_data",
          "data": {
            "text/plain": [
              "<Figure size 640x480 with 1 Axes>"
            ],
            "image/png": "[encoded data removed]"
          },
          "metadata": {}
        },
        {
          "output_type": "display_data",
          "data": {
            "text/plain": [
              "<Figure size 640x480 with 1 Axes>"
            ],
            "image/png": "[encoded data removed]"
          },
          "metadata": {}
        }
      ],
      "source": [
        "import matplotlib.pyplot as plt\n",
        "\n",
        "\n",
        "def plot_graphs(history, string):\n",
        "  plt.plot(history.history[string])\n",
        "  plt.plot(history.history['val_'+string])\n",
        "  plt.xlabel(\"Epochs\")\n",
        "  plt.ylabel(string)\n",
        "  plt.legend([string, 'val_'+string])\n",
        "  plt.show()\n",
        "\n",
        "plot_graphs(history, \"accuracy\")\n",
        "plot_graphs(history, \"loss\")"
      ]
    },
    {
      "cell_type": "code",
      "execution_count": null,
      "metadata": {
        "colab": {
          "base_uri": "https://localhost:8080/"
        },
        "id": "7SBdAZAenvzL",
        "outputId": "2e6861f3-1231-4588-b4fb-a03a3644a725"
      },
      "outputs": [
        {
          "output_type": "stream",
          "name": "stdout",
          "text": [
            "collection agency holding nation <OOV> trump pay business debt ? ? ? ? ? ? ? ? ? ? ? ? ? ? ? ? ? ? ? ? ? ? ? ? ? ? ? ? ? ? ? ? ? ? ? ? ? ? ? ? ? ? ? ? ? ? ? ? ? ? ? ? ? ? ? ? ? ? ? ? ? ? ? ? ? ? ? ? ? ? ? ? ? ? ? ? ? ? ? ? ? ? ? ? ? ? ? ? ? ? ? ? ? ? ? ? ? ? ? ? ? ? ? ? ? ? ? ? ? ? ? ? ? ? ? ? ? ? ? ? ? ? ? ? ? ? ? ? ? ? ? ? ? ? ? ? ? ? ? ? ? ? ? ? ? ? ? ? ? ? ? ? ? ? ? ? ? ? ? ? ? ? ? ? ? ? ? ? ? ? ? ? ? ? ? ? ? ? ? ? ? ? ? ? ? ? ? ? ? ? ?\n",
            "collection agency holding nation collateral trump pay business debt \n",
            "1\n"
          ]
        }
      ],
      "source": [
        "# intergers to word mapping for decoding the text\n",
        "reverse_word_index = dict([(value, key) for (key, value) in word_index.items()])\n",
        "\n",
        "def decode_sentence(text):\n",
        "    return ' '.join([reverse_word_index.get(i, '?') for i in text])\n",
        "\n",
        "print(decode_sentence(training_padded[0]))\n",
        "print(training_sentences[0])\n",
        "print(labels[0])"
      ]
    },
    {
      "cell_type": "code",
      "execution_count": null,
      "metadata": {
        "colab": {
          "base_uri": "https://localhost:8080/"
        },
        "id": "c9MqihtEkzQ9",
        "outputId": "828f76bc-7fdc-45eb-a128-08b49c9de8dd"
      },
      "outputs": [
        {
          "output_type": "stream",
          "name": "stdout",
          "text": [
            "(5000, 100)\n"
          ]
        }
      ],
      "source": [
        "e = model_mlp.layers[0]\n",
        "weights = e.get_weights()[0]\n",
        "print(weights.shape) # shape: (vocab_size, embedding_dim)\n"
      ]
    },
    {
      "cell_type": "code",
      "execution_count": null,
      "metadata": {
        "id": "LoBXVffknldU"
      },
      "outputs": [],
      "source": [
        "# SAVE THE WEIGHTS\n",
        "\n",
        "import io\n",
        "\n",
        "out_v = io.open('vecs.tsv', 'w', encoding='utf-8')\n",
        "out_m = io.open('meta.tsv', 'w', encoding='utf-8')\n",
        "for word_num in range(1, vocab_size):\n",
        "  word = reverse_word_index[word_num]\n",
        "  embeddings = weights[word_num]\n",
        "  out_m.write(word + \"\\n\")\n",
        "  out_v.write('\\t'.join([str(x) for x in embeddings]) + \"\\n\")\n",
        "out_v.close()\n",
        "out_m.close()"
      ]
    },
    {
      "cell_type": "markdown",
      "source": [
        "save weights\n"
      ],
      "metadata": {
        "id": "zpLO3TMvSPG6"
      }
    },
    {
      "cell_type": "code",
      "execution_count": null,
      "metadata": {
        "colab": {
          "base_uri": "https://localhost:8080/",
          "height": 17
        },
        "id": "U4eZ5HtVnnEE",
        "outputId": "832a2b8e-4545-4f5e-8df0-36376094b44b"
      },
      "outputs": [
        {
          "output_type": "display_data",
          "data": {
            "text/plain": [
              "<IPython.core.display.Javascript object>"
            ],
            "application/javascript": [
              "\n",
              "    async function download(id, filename, size) {\n",
              "      if (!google.colab.kernel.accessAllowed) {\n",
              "        return;\n",
              "      }\n",
              "      const div = document.createElement('div');\n",
              "      const label = document.createElement('label');\n",
              "      label.textContent = `Downloading \"${filename}\": `;\n",
              "      div.appendChild(label);\n",
              "      const progress = document.createElement('progress');\n",
              "      progress.max = size;\n",
              "      div.appendChild(progress);\n",
              "      document.body.appendChild(div);\n",
              "\n",
              "      const buffers = [];\n",
              "      let downloaded = 0;\n",
              "\n",
              "      const channel = await google.colab.kernel.comms.open(id);\n",
              "      // Send a message to notify the kernel that we're ready.\n",
              "      channel.send({})\n",
              "\n",
              "      for await (const message of channel.messages) {\n",
              "        // Send a message to notify the kernel that we're ready.\n",
              "        channel.send({})\n",
              "        if (message.buffers) {\n",
              "          for (const buffer of message.buffers) {\n",
              "            buffers.push(buffer);\n",
              "            downloaded += buffer.byteLength;\n",
              "            progress.value = downloaded;\n",
              "          }\n",
              "        }\n",
              "      }\n",
              "      const blob = new Blob(buffers, {type: 'application/binary'});\n",
              "      const a = document.createElement('a');\n",
              "      a.href = window.URL.createObjectURL(blob);\n",
              "      a.download = filename;\n",
              "      div.appendChild(a);\n",
              "      a.click();\n",
              "      div.remove();\n",
              "    }\n",
              "  "
            ]
          },
          "metadata": {}
        },
        {
          "output_type": "display_data",
          "data": {
            "text/plain": [
              "<IPython.core.display.Javascript object>"
            ],
            "application/javascript": [
              "download(\"download_98ef6ffc-6093-40b1-80d5-9315e5971d91\", \"vecs.tsv\", 5765943)"
            ]
          },
          "metadata": {}
        },
        {
          "output_type": "display_data",
          "data": {
            "text/plain": [
              "<IPython.core.display.Javascript object>"
            ],
            "application/javascript": [
              "\n",
              "    async function download(id, filename, size) {\n",
              "      if (!google.colab.kernel.accessAllowed) {\n",
              "        return;\n",
              "      }\n",
              "      const div = document.createElement('div');\n",
              "      const label = document.createElement('label');\n",
              "      label.textContent = `Downloading \"${filename}\": `;\n",
              "      div.appendChild(label);\n",
              "      const progress = document.createElement('progress');\n",
              "      progress.max = size;\n",
              "      div.appendChild(progress);\n",
              "      document.body.appendChild(div);\n",
              "\n",
              "      const buffers = [];\n",
              "      let downloaded = 0;\n",
              "\n",
              "      const channel = await google.colab.kernel.comms.open(id);\n",
              "      // Send a message to notify the kernel that we're ready.\n",
              "      channel.send({})\n",
              "\n",
              "      for await (const message of channel.messages) {\n",
              "        // Send a message to notify the kernel that we're ready.\n",
              "        channel.send({})\n",
              "        if (message.buffers) {\n",
              "          for (const buffer of message.buffers) {\n",
              "            buffers.push(buffer);\n",
              "            downloaded += buffer.byteLength;\n",
              "            progress.value = downloaded;\n",
              "          }\n",
              "        }\n",
              "      }\n",
              "      const blob = new Blob(buffers, {type: 'application/binary'});\n",
              "      const a = document.createElement('a');\n",
              "      a.href = window.URL.createObjectURL(blob);\n",
              "      a.download = filename;\n",
              "      div.appendChild(a);\n",
              "      a.click();\n",
              "      div.remove();\n",
              "    }\n",
              "  "
            ]
          },
          "metadata": {}
        },
        {
          "output_type": "display_data",
          "data": {
            "text/plain": [
              "<IPython.core.display.Javascript object>"
            ],
            "application/javascript": [
              "download(\"download_4541431b-275f-42d8-9aa8-c027adcb209d\", \"meta.tsv\", 35953)"
            ]
          },
          "metadata": {}
        }
      ],
      "source": [
        "# DOWNLAOD trained\n",
        "try:\n",
        "  from google.colab import files\n",
        "except ImportError:\n",
        "  pass\n",
        "else:\n",
        "  files.download('vecs.tsv')\n",
        "  files.download('meta.tsv')"
      ]
    },
    {
      "cell_type": "markdown",
      "source": [
        "predict on set of setences"
      ],
      "metadata": {
        "id": "7vvnlfTtSRgS"
      }
    },
    {
      "cell_type": "code",
      "execution_count": null,
      "metadata": {
        "colab": {
          "base_uri": "https://localhost:8080/"
        },
        "id": "cG8-ArY-qDcz",
        "outputId": "d70d6a05-4762-4514-e94d-a7448beec37b"
      },
      "outputs": [
        {
          "output_type": "stream",
          "name": "stdout",
          "text": [
            "1/1 [==============================] - 0s 150ms/step\n",
            " 1 Sarcatic\n",
            " 2 Non Sarcastic\n",
            " 3 Non Sarcastic\n",
            " 4 Non Sarcastic\n"
          ]
        }
      ],
      "source": [
        "pred_threshold = 0.5 # vary it to see the impact for better performance\n",
        "sentence = [\"granny starting to fear spiders in the garden might be real\", \"game of thrones season finale showing this sunday night\",\n",
        "             \"The weather is getting cold\", \"The quick brown fox jumps over the lazy dog\"]\n",
        "sequences = tokenizer.texts_to_sequences(sentence)\n",
        "padded = pad_sequences(sequences, maxlen=max_length, padding=padding_type, truncating=trunc_type)\n",
        "predictions = model_mlp.predict(padded).squeeze()\n",
        "\n",
        "for ind, prediction in enumerate(predictions):\n",
        "  if float(prediction)>= pred_threshold:\n",
        "    print(f\" {ind + 1} Sarcatic\")\n",
        "  else:\n",
        "    print(f\" {ind + 1} Non Sarcastic\")\n",
        "\n",
        "\n",
        "\n",
        "\n"
      ]
    }
  ],
  "metadata": {
    "colab": {
      "provenance": [],
      "gpuType": "T4"
    },
    "kernelspec": {
      "display_name": "Python 3",
      "name": "python3"
    },
    "accelerator": "GPU"
  },
  "nbformat": 4,
  "nbformat_minor": 0
}