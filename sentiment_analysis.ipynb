{
  "cells": [
    {
      "cell_type": "markdown",
      "source": [
        "**Text Sentiment Analysis**\n",
        " -------------------------\n",
        " For sentiment analysis we are required to use the sarcasm news dataset. (given an input from the dataset/random input our code should tell if there is sarcasm in it or not.) (two portions in test file. 1 for performance metrics on running on test_set and one for random input from the user to detect sarcasm.)\n",
        "\n",
        " ***Author: Muhammad Faizan***\n",
        "\n",
        "\n",
        "\n",
        "Department of Robotics & AI - School of Mechanical & Manufacturing Engineering, NUST*"
      ],
      "metadata": {
        "id": "baQIwgKXpOXr"
      }
    },
    {
      "cell_type": "code",
      "execution_count": 1,
      "metadata": {
        "colab": {
          "base_uri": "https://localhost:8080/"
        },
        "id": "4gs9htvM7n_x",
        "outputId": "a2f13a66-2262-4337-9651-0b25de49feff"
      },
      "outputs": [
        {
          "output_type": "stream",
          "name": "stdout",
          "text": [
            "Colab only includes TensorFlow 2.x; %tensorflow_version has no effect.\n"
          ]
        }
      ],
      "source": [
        "# Run this to ensure TensorFlow 2.x is used\n",
        "try:\n",
        "  %tensorflow_version 2.x\n",
        "except Exception:\n",
        "  print(\"Using TensorFlow 1.x version\")"
      ]
    },
    {
      "cell_type": "code",
      "source": [
        "%ls"
      ],
      "metadata": {
        "colab": {
          "base_uri": "https://localhost:8080/"
        },
        "id": "8Rn-0Oa0toN0",
        "outputId": "354d1ce7-ccd8-4253-9f5b-75febbb269ad"
      },
      "execution_count": 2,
      "outputs": [
        {
          "output_type": "stream",
          "name": "stdout",
          "text": [
            "\u001b[0m\u001b[01;34msample_data\u001b[0m/\n"
          ]
        }
      ]
    },
    {
      "cell_type": "code",
      "source": [
        "!nvidia-smi"
      ],
      "metadata": {
        "colab": {
          "base_uri": "https://localhost:8080/"
        },
        "id": "Sq_PmFgsph4Z",
        "outputId": "e621e405-0acc-408c-fba4-37375afcd560"
      },
      "execution_count": 3,
      "outputs": [
        {
          "output_type": "stream",
          "name": "stdout",
          "text": [
            "Thu Dec 21 02:57:41 2023       \n",
            "+---------------------------------------------------------------------------------------+\n",
            "| NVIDIA-SMI 535.104.05             Driver Version: 535.104.05   CUDA Version: 12.2     |\n",
            "|-----------------------------------------+----------------------+----------------------+\n",
            "| GPU  Name                 Persistence-M | Bus-Id        Disp.A | Volatile Uncorr. ECC |\n",
            "| Fan  Temp   Perf          Pwr:Usage/Cap |         Memory-Usage | GPU-Util  Compute M. |\n",
            "|                                         |                      |               MIG M. |\n",
            "|=========================================+======================+======================|\n",
            "|   0  Tesla T4                       Off | 00000000:00:04.0 Off |                    0 |\n",
            "| N/A   66C    P8              11W /  70W |      0MiB / 15360MiB |      0%      Default |\n",
            "|                                         |                      |                  N/A |\n",
            "+-----------------------------------------+----------------------+----------------------+\n",
            "                                                                                         \n",
            "+---------------------------------------------------------------------------------------+\n",
            "| Processes:                                                                            |\n",
            "|  GPU   GI   CI        PID   Type   Process name                            GPU Memory |\n",
            "|        ID   ID                                                             Usage      |\n",
            "|=======================================================================================|\n",
            "|  No running processes found                                                           |\n",
            "+---------------------------------------------------------------------------------------+\n"
          ]
        }
      ]
    },
    {
      "cell_type": "code",
      "execution_count": 5,
      "metadata": {
        "id": "XYYDvoskkE61"
      },
      "outputs": [],
      "source": [
        "# all imports\n",
        "import json\n",
        "import tensorflow as tf\n",
        "import nltk\n",
        "import pandas as pd\n",
        "from sklearn.metrics import classification_report\n",
        "from sklearn.metrics import accuracy_score\n",
        "from sklearn.preprocessing import LabelEncoder\n",
        "from sklearn.model_selection import train_test_split\n",
        "import math\n",
        "import re\n",
        "\n",
        "from tensorflow.keras.preprocessing.text import Tokenizer\n",
        "from tensorflow.keras.preprocessing.sequence import pad_sequences\n"
      ]
    },
    {
      "cell_type": "code",
      "execution_count": null,
      "metadata": {
        "id": "BQVuQrZNkPn9"
      },
      "outputs": [],
      "source": [
        "# downloading the dataset from the given link\n",
        "!wget --no-check-certificate \\\n",
        "    https://storage.googleapis.com/learning-datasets/sarcasm.json \\\n",
        "    -O /tmp/sarcasm.json\n"
      ]
    },
    {
      "cell_type": "code",
      "execution_count": 27,
      "metadata": {
        "id": "oaLaaqhNkUPd"
      },
      "outputs": [],
      "source": [
        "# read json file and separte the headlines from the labels (sarcasm and non sarcasm)\n",
        "with open(\"/tmp/sarcasm.json\", 'r') as f:\n",
        "    datastore = json.load(f)\n",
        "\n",
        "sentences = []\n",
        "labels = []\n",
        "\n",
        "for item in datastore:\n",
        "    sentences.append(item['headline'])\n",
        "    labels.append(item['is_sarcastic'])"
      ]
    },
    {
      "cell_type": "code",
      "source": [
        "\n",
        "print(len(sentences))"
      ],
      "metadata": {
        "id": "kQvwuPKBfhLb",
        "colab": {
          "base_uri": "https://localhost:8080/"
        },
        "outputId": "ea71bf02-a1cd-4798-e4a1-74065d7ae6cb"
      },
      "execution_count": 28,
      "outputs": [
        {
          "output_type": "stream",
          "name": "stdout",
          "text": [
            "26709\n"
          ]
        }
      ]
    },
    {
      "cell_type": "markdown",
      "source": [
        "# Data Preprocessing\n",
        "1. removing tags and URLS from the text\n",
        "2. Stop words removal\n",
        "3. Lemmization\n",
        "4. splitting the datasets\n",
        "\n",
        "**1. Removing tags and URLs from the text**\n",
        "\n",
        "we need to remove HTML tags, URLs, and non-alphanumeric characters from the reviews. We do that with the help of the remove_tags function, and Regex functions are used for easy string manipulation."
      ],
      "metadata": {
        "id": "f-Yh_MHEZaYK"
      }
    },
    {
      "cell_type": "code",
      "source": [
        "# remove HTML and URL tags from the text if they exists\n",
        "def remove_tags(string):\n",
        "    removelist = \"\"\n",
        "    result = re.sub('','',string)          #remove HTML tags\n",
        "    result = re.sub('https://.*','',result)   #remove URLs\n",
        "    result = result.lower()\n",
        "    return result\n",
        "tagsfree_sentences= [remove_tags(sentence) for sentence in sentences]"
      ],
      "metadata": {
        "id": "1Kq89UrIUQZN"
      },
      "execution_count": 29,
      "outputs": []
    },
    {
      "cell_type": "code",
      "source": [
        "for i, sent in enumerate(tagsfree_sentences):\n",
        "  print(sent)\n",
        "  if i == 5:\n",
        "    break"
      ],
      "metadata": {
        "colab": {
          "base_uri": "https://localhost:8080/"
        },
        "id": "_xZNQ1GoU-qt",
        "outputId": "5d75cbe9-e820-4751-957a-a5e7b5d280a2"
      },
      "execution_count": 30,
      "outputs": [
        {
          "output_type": "stream",
          "name": "stdout",
          "text": [
            "former versace store clerk sues over secret 'black code' for minority shoppers\n",
            "the 'roseanne' revival catches up to our thorny political mood, for better and worse\n",
            "mom starting to fear son's web series closest thing she will have to grandchild\n",
            "boehner just wants wife to listen, not come up with alternative debt-reduction ideas\n",
            "j.k. rowling wishes snape happy birthday in the most magical way\n",
            "advancing the world's women\n"
          ]
        }
      ]
    },
    {
      "cell_type": "markdown",
      "source": [
        "**2. Stop Words removal**\n",
        "\n",
        "Stopwords are commonly used words like ‘and’, ‘the’, ‘at’ that do not add any special meaning or significance to a sentence. A list of stopwords are available with nltk, and they can be removed from the corpus using the following code"
      ],
      "metadata": {
        "id": "HgiEuoP7ZPad"
      }
    },
    {
      "cell_type": "code",
      "source": [
        "# removing stopwords from the text\n",
        "nltk.download('stopwords')\n",
        "from nltk.corpus import stopwords\n",
        "stop_words = set(stopwords.words('english'))\n",
        "\n",
        "def remove_stop_words(sentence):\n",
        "  processed = []\n",
        "  for word in sentence.split():\n",
        "    if word not in stop_words:\n",
        "      processed.append(word)\n",
        "  return ' '.join(processed)\n",
        "\n",
        "\n",
        "processed_stopwords_tags_sentences = [remove_stop_words(sentence) for sentence in tagsfree_sentences]\n"
      ],
      "metadata": {
        "colab": {
          "base_uri": "https://localhost:8080/"
        },
        "id": "B_cMpnH6WMpH",
        "outputId": "e93886dd-f03d-4c5a-9e6f-1031e96c3ccb"
      },
      "execution_count": 37,
      "outputs": [
        {
          "output_type": "stream",
          "name": "stderr",
          "text": [
            "[nltk_data] Downloading package stopwords to /root/nltk_data...\n",
            "[nltk_data]   Package stopwords is already up-to-date!\n"
          ]
        }
      ]
    },
    {
      "cell_type": "markdown",
      "source": [
        "**3. Lemmatization**\n",
        "\n",
        " Lemmatization is a useful technique in NLP to obtain the root form of words, known as lemmas. For example, the lemma of the words reading, reads, read is read. This helps save unnecessary computational overhead in trying to decipher entire words, as the meanings of most words are well-expressed by their separate lemmas. We perform lemmatization using the WordNetLemmatizer() from nltk. The text is first broken into individual words using the WhitespaceTokenizer() from nltk. We write a function lemmatize_text to perform lemmatization on the individual tokens."
      ],
      "metadata": {
        "id": "xipj13M_ZDEc"
      }
    },
    {
      "cell_type": "code",
      "source": [
        "# perform lemmizataion\n",
        "w_tokenizer = nltk.tokenize.WhitespaceTokenizer()\n",
        "lemmatizer = nltk.stem.WordNetLemmatizer()\n",
        "nltk.download('wordnet')\n",
        "def lemmatize_text(text):\n",
        "    st = \"\"\n",
        "    for w in w_tokenizer.tokenize(text):\n",
        "        st = st + lemmatizer.lemmatize(w) + \" \"\n",
        "    return st\n",
        "lemmizated_and_processed_sents = [lemmatize_text(sent) for sent in processed_stopwords_tags_sentences]"
      ],
      "metadata": {
        "colab": {
          "base_uri": "https://localhost:8080/"
        },
        "id": "AnECsVxNY2Kf",
        "outputId": "2aa7b62f-da37-41fa-badd-ee9c117e8448"
      },
      "execution_count": 40,
      "outputs": [
        {
          "output_type": "stream",
          "name": "stderr",
          "text": [
            "[nltk_data] Downloading package wordnet to /root/nltk_data...\n"
          ]
        }
      ]
    },
    {
      "cell_type": "code",
      "source": [
        "# print some statistics about the data\n",
        "z = 0.0\n",
        "for i in lemmizated_and_processed_sents:\n",
        "    word_list = i.split()\n",
        "    z =  z + len(word_list)\n",
        "print(\"Average length of each review : \",z/len(lemmizated_and_processed_sents))"
      ],
      "metadata": {
        "colab": {
          "base_uri": "https://localhost:8080/"
        },
        "id": "X32lgalTavvx",
        "outputId": "7872436d-f778-47d6-bf5d-1c6c3f269bf9"
      },
      "execution_count": 43,
      "outputs": [
        {
          "output_type": "stream",
          "name": "stdout",
          "text": [
            "Average length of each review :  7.148376951589352\n"
          ]
        }
      ]
    },
    {
      "cell_type": "code",
      "source": [
        "pos = 0\n",
        "for i in range(len(lemmizated_and_processed_sents)):\n",
        "    if labels[i] == 1:\n",
        "        pos = pos + 1\n",
        "neg = len(lemmizated_and_processed_sents)-pos\n",
        "print(\"Percentage of reviews with positive sentiment is \"+str(pos/len(lemmizated_and_processed_sents)*100)+\"%\")\n",
        "print(\"Percentage of reviews with negative sentiment is \"+str(neg/len(lemmizated_and_processed_sents)*100)+\"%\")"
      ],
      "metadata": {
        "colab": {
          "base_uri": "https://localhost:8080/"
        },
        "id": "dq_IMS17bXWz",
        "outputId": "4e63cf35-0145-48bf-8115-a86e014f4b0d"
      },
      "execution_count": 47,
      "outputs": [
        {
          "output_type": "stream",
          "name": "stdout",
          "text": [
            "Percentage of reviews with positive sentiment is 43.89531618555543%\n",
            "Percentage of reviews with negative sentiment is 56.10468381444457%\n"
          ]
        }
      ]
    },
    {
      "cell_type": "markdown",
      "source": [
        "**4. splitting the dataset**\n",
        "\n",
        "split the dataset into training and testing with 80% and 20% ratio for each train and test respectively"
      ],
      "metadata": {
        "id": "H-pHVhcvceMI"
      }
    },
    {
      "cell_type": "code",
      "source": [
        "# hyperparameters\n",
        "#-----------------\n",
        "vocab_size = 5000\n",
        "embedding_dim = 100\n",
        "max_length = 200\n",
        "trunc_type='post'\n",
        "padding_type='post'\n",
        "oov_tok = \"<OOV>\"\n",
        "training_size = 0.8"
      ],
      "metadata": {
        "id": "oHD9JrPLc5lX"
      },
      "execution_count": 50,
      "outputs": []
    },
    {
      "cell_type": "code",
      "source": [
        "\n",
        "# split into training and teseting sets\n",
        "training_length = int(len(labels) * training_size)\n",
        "training_sentences = lemmizated_and_processed_sents[0:training_length]\n",
        "testing_sentences = lemmizated_and_processed_sents[training_length:]\n",
        "\n",
        "training_labels = labels[0:training_length]\n",
        "testing_labels = labels[training_length:]"
      ],
      "metadata": {
        "id": "cRZBxgopcYzp"
      },
      "execution_count": 61,
      "outputs": []
    },
    {
      "cell_type": "markdown",
      "source": [
        "**Tokenization**\n",
        "\n",
        "tokenize the text and pad the sequence to have a uniform length"
      ],
      "metadata": {
        "id": "FIMi9PFOiBb4"
      }
    },
    {
      "cell_type": "code",
      "execution_count": 62,
      "metadata": {
        "id": "3u8UB0MCkZ5N"
      },
      "outputs": [],
      "source": [
        "# tokenize the sentences such as headlines into words\n",
        "tokenizer = Tokenizer(num_words=vocab_size, oov_token=oov_tok)\n",
        "tokenizer.fit_on_texts(training_sentences)\n",
        "\n",
        "# words to integers mapping dict\n",
        "word_index = tokenizer.word_index\n",
        "\n",
        "# Training: Encode the text into numbers and pad the sequence with the maximum length in the sequence, truncate any longer sentence\n",
        "training_sequences = tokenizer.texts_to_sequences(training_sentences)\n",
        "training_padded = pad_sequences(training_sequences, maxlen=max_length, padding=padding_type, truncating=trunc_type)\n",
        "\n",
        "# Testing: Encode the text into numbers and pad the sequence with the maximum length in the sequence, truncate any longer sentence\n",
        "testing_sequences = tokenizer.texts_to_sequences(testing_sentences)\n",
        "testing_padded = pad_sequences(testing_sequences, maxlen=max_length, padding=padding_type, truncating=trunc_type)"
      ]
    },
    {
      "cell_type": "code",
      "source": [
        "# get sense what is going on in the dataset\n",
        "index = 100\n",
        "print(f'orginal sentence: {training_sentences[index]}')\n",
        "print(f'Is sarcastic: {training_labels[index]}')\n",
        "print(f'Encoded sequence: {training_sequences[index]}')\n",
        "print(f'Padded sequence: {training_padded[index]}')"
      ],
      "metadata": {
        "colab": {
          "base_uri": "https://localhost:8080/"
        },
        "id": "Ec7ni3Jhr4Hc",
        "outputId": "53108dd6-b713-4fb1-cbc2-aa33e9d42fda"
      },
      "execution_count": 63,
      "outputs": [
        {
          "output_type": "stream",
          "name": "stdout",
          "text": [
            "orginal sentence: demi lovato drop emotional 'nightingale' music vid \n",
            "Is sarcastic: 0\n",
            "Encoded sequence: [4669, 4670, 653, 863, 1, 372, 1]\n",
            "Padded sequence: [4669 4670  653  863    1  372    1    0    0    0    0    0    0    0\n",
            "    0    0    0    0    0    0    0    0    0    0    0    0    0    0\n",
            "    0    0    0    0    0    0    0    0    0    0    0    0    0    0\n",
            "    0    0    0    0    0    0    0    0    0    0    0    0    0    0\n",
            "    0    0    0    0    0    0    0    0    0    0    0    0    0    0\n",
            "    0    0    0    0    0    0    0    0    0    0    0    0    0    0\n",
            "    0    0    0    0    0    0    0    0    0    0    0    0    0    0\n",
            "    0    0    0    0    0    0    0    0    0    0    0    0    0    0\n",
            "    0    0    0    0    0    0    0    0    0    0    0    0    0    0\n",
            "    0    0    0    0    0    0    0    0    0    0    0    0    0    0\n",
            "    0    0    0    0    0    0    0    0    0    0    0    0    0    0\n",
            "    0    0    0    0    0    0    0    0    0    0    0    0    0    0\n",
            "    0    0    0    0    0    0    0    0    0    0    0    0    0    0\n",
            "    0    0    0    0    0    0    0    0    0    0    0    0    0    0\n",
            "    0    0    0    0]\n"
          ]
        }
      ]
    },
    {
      "cell_type": "code",
      "execution_count": 64,
      "metadata": {
        "id": "GrAlWBKf99Ya"
      },
      "outputs": [],
      "source": [
        "# convert the TensorFlow tensors to numpy arrays\n",
        "import numpy as np\n",
        "training_padded = np.array(training_padded)\n",
        "training_labels = np.array(training_labels)\n",
        "testing_padded = np.array(testing_padded)\n",
        "testing_labels = np.array(testing_labels)\n"
      ]
    },
    {
      "cell_type": "markdown",
      "source": [
        "**Define models**\n",
        "\n",
        "1. Simple MLP\n",
        "2. LSTM and MLP based hybrid model"
      ],
      "metadata": {
        "id": "DudmYRPEiOA-"
      }
    },
    {
      "cell_type": "code",
      "execution_count": 81,
      "metadata": {
        "id": "FufaT4vlkiDE"
      },
      "outputs": [],
      "source": [
        "# define the model using Simple MLP\n",
        "model_mlp = tf.keras.Sequential([\n",
        "    tf.keras.layers.Embedding(vocab_size, embedding_dim, input_length=max_length),\n",
        "    tf.keras.layers.GlobalAveragePooling1D(),\n",
        "    tf.keras.layers.Dense(24, activation='relu'),\n",
        "    tf.keras.layers.Dropout(0.3),\n",
        "    tf.keras.layers.Dense(1, activation='sigmoid')\n",
        "])\n",
        "model_mlp.compile(loss='binary_crossentropy',optimizer='adam',metrics=['accuracy'])"
      ]
    },
    {
      "cell_type": "code",
      "source": [
        "model_lstm = tf.keras.Sequential([\n",
        "    tf.keras.layers.Embedding(vocab_size, embedding_dim, input_length=max_length),\n",
        "    tf.keras.layers.Bidirectional(tf.keras.layers.LSTM(64)),\n",
        "    tf.keras.layers.LSTM(64),\n",
        "    tf.keras.layers.Dense(24, activation='relu'),\n",
        "    tf.keras.layers.Dropout(0.3),\n",
        "    tf.keras.layers.Dense(1, activation='sigmoid')\n",
        "])\n",
        "\n",
        "# compile model\n",
        "model_lstm.compile(loss='binary_crossentropy',\n",
        "              optimizer='adam',\n",
        "              metrics=['accuracy'])"
      ],
      "metadata": {
        "id": "_UVUCz9Td69I"
      },
      "execution_count": 82,
      "outputs": []
    },
    {
      "cell_type": "code",
      "execution_count": 76,
      "metadata": {
        "colab": {
          "base_uri": "https://localhost:8080/"
        },
        "id": "XfDt1hmYkiys",
        "outputId": "182ee901-8be2-400d-a506-98cb938e5547"
      },
      "outputs": [
        {
          "output_type": "stream",
          "name": "stdout",
          "text": [
            "Model: \"sequential_4\"\n",
            "_________________________________________________________________\n",
            " Layer (type)                Output Shape              Param #   \n",
            "=================================================================\n",
            " embedding_4 (Embedding)     (None, 200, 100)          500000    \n",
            "                                                                 \n",
            " global_average_pooling1d_2  (None, 100)               0         \n",
            "  (GlobalAveragePooling1D)                                       \n",
            "                                                                 \n",
            " dense_8 (Dense)             (None, 24)                2424      \n",
            "                                                                 \n",
            " dropout (Dropout)           (None, 24)                0         \n",
            "                                                                 \n",
            " dense_9 (Dense)             (None, 1)                 25        \n",
            "                                                                 \n",
            "=================================================================\n",
            "Total params: 502449 (1.92 MB)\n",
            "Trainable params: 502449 (1.92 MB)\n",
            "Non-trainable params: 0 (0.00 Byte)\n",
            "_________________________________________________________________\n"
          ]
        }
      ],
      "source": [
        "model_mlp.summary()\n"
      ]
    },
    {
      "cell_type": "code",
      "source": [
        "model_lstm.summary()"
      ],
      "metadata": {
        "colab": {
          "base_uri": "https://localhost:8080/"
        },
        "id": "2pWFTi2AeeGg",
        "outputId": "6104baa2-03d1-406f-ff62-e869fa9774ef"
      },
      "execution_count": 68,
      "outputs": [
        {
          "output_type": "stream",
          "name": "stdout",
          "text": [
            "Model: \"sequential_3\"\n",
            "_________________________________________________________________\n",
            " Layer (type)                Output Shape              Param #   \n",
            "=================================================================\n",
            " embedding_3 (Embedding)     (None, 200, 100)          500000    \n",
            "                                                                 \n",
            " bidirectional_1 (Bidirecti  (None, 128)               84480     \n",
            " onal)                                                           \n",
            "                                                                 \n",
            " dense_6 (Dense)             (None, 24)                3096      \n",
            "                                                                 \n",
            " dense_7 (Dense)             (None, 1)                 25        \n",
            "                                                                 \n",
            "=================================================================\n",
            "Total params: 587601 (2.24 MB)\n",
            "Trainable params: 587601 (2.24 MB)\n",
            "Non-trainable params: 0 (0.00 Byte)\n",
            "_________________________________________________________________\n"
          ]
        }
      ]
    },
    {
      "cell_type": "markdown",
      "source": [
        "**Training**\n",
        "\n",
        "train the given model for num_epochs and using the proprocessed text data along with the given label"
      ],
      "metadata": {
        "id": "525gMEKAibIW"
      }
    },
    {
      "cell_type": "code",
      "execution_count": 83,
      "metadata": {
        "colab": {
          "base_uri": "https://localhost:8080/"
        },
        "id": "2DTKQFf1kkyc",
        "outputId": "8d5221af-f71c-4a56-9a7f-0cd28d3deb08"
      },
      "outputs": [
        {
          "output_type": "stream",
          "name": "stdout",
          "text": [
            "Epoch 1/30\n",
            "668/668 - 24s - loss: 0.4896 - accuracy: 0.7542 - val_loss: 0.4410 - val_accuracy: 0.7896 - 24s/epoch - 36ms/step\n",
            "Epoch 2/30\n",
            "668/668 - 13s - loss: 0.3308 - accuracy: 0.8527 - val_loss: 0.4337 - val_accuracy: 0.8021 - 13s/epoch - 19ms/step\n",
            "Epoch 3/30\n",
            "668/668 - 12s - loss: 0.2611 - accuracy: 0.8859 - val_loss: 0.4847 - val_accuracy: 0.7877 - 12s/epoch - 18ms/step\n",
            "Epoch 4/30\n",
            "668/668 - 11s - loss: 0.2105 - accuracy: 0.9105 - val_loss: 0.5628 - val_accuracy: 0.7870 - 11s/epoch - 16ms/step\n",
            "Epoch 5/30\n",
            "668/668 - 11s - loss: 0.1625 - accuracy: 0.9336 - val_loss: 0.6488 - val_accuracy: 0.7802 - 11s/epoch - 16ms/step\n",
            "Epoch 6/30\n",
            "668/668 - 11s - loss: 0.1226 - accuracy: 0.9498 - val_loss: 0.7699 - val_accuracy: 0.7757 - 11s/epoch - 17ms/step\n",
            "Epoch 7/30\n",
            "668/668 - 11s - loss: 0.2262 - accuracy: 0.9091 - val_loss: 0.6836 - val_accuracy: 0.7774 - 11s/epoch - 16ms/step\n",
            "Epoch 8/30\n",
            "668/668 - 11s - loss: 0.1430 - accuracy: 0.9404 - val_loss: 0.7731 - val_accuracy: 0.7757 - 11s/epoch - 16ms/step\n",
            "Epoch 9/30\n",
            "668/668 - 17s - loss: 0.0871 - accuracy: 0.9665 - val_loss: 0.9490 - val_accuracy: 0.7696 - 17s/epoch - 26ms/step\n",
            "Epoch 10/30\n",
            "668/668 - 11s - loss: 0.0626 - accuracy: 0.9757 - val_loss: 1.1868 - val_accuracy: 0.7696 - 11s/epoch - 16ms/step\n",
            "Epoch 11/30\n",
            "668/668 - 16s - loss: 0.0580 - accuracy: 0.9770 - val_loss: 1.1756 - val_accuracy: 0.7709 - 16s/epoch - 23ms/step\n",
            "Epoch 12/30\n",
            "668/668 - 11s - loss: 0.0418 - accuracy: 0.9850 - val_loss: 1.3598 - val_accuracy: 0.7651 - 11s/epoch - 17ms/step\n",
            "Epoch 13/30\n",
            "668/668 - 13s - loss: 0.0320 - accuracy: 0.9876 - val_loss: 1.5228 - val_accuracy: 0.7694 - 13s/epoch - 19ms/step\n",
            "Epoch 14/30\n",
            "668/668 - 11s - loss: 0.0311 - accuracy: 0.9885 - val_loss: 1.5826 - val_accuracy: 0.7591 - 11s/epoch - 16ms/step\n",
            "Epoch 15/30\n",
            "668/668 - 11s - loss: 0.0256 - accuracy: 0.9908 - val_loss: 1.7868 - val_accuracy: 0.7621 - 11s/epoch - 17ms/step\n",
            "Epoch 16/30\n",
            "668/668 - 11s - loss: 0.0214 - accuracy: 0.9919 - val_loss: 1.7586 - val_accuracy: 0.7653 - 11s/epoch - 17ms/step\n",
            "Epoch 17/30\n",
            "668/668 - 12s - loss: 0.0163 - accuracy: 0.9941 - val_loss: 1.9003 - val_accuracy: 0.7630 - 12s/epoch - 18ms/step\n",
            "Epoch 18/30\n",
            "668/668 - 12s - loss: 0.0154 - accuracy: 0.9938 - val_loss: 2.0224 - val_accuracy: 0.7604 - 12s/epoch - 17ms/step\n",
            "Epoch 19/30\n",
            "668/668 - 14s - loss: 0.0137 - accuracy: 0.9949 - val_loss: 2.0293 - val_accuracy: 0.7570 - 14s/epoch - 21ms/step\n",
            "Epoch 20/30\n",
            "668/668 - 11s - loss: 0.0137 - accuracy: 0.9947 - val_loss: 1.9312 - val_accuracy: 0.7649 - 11s/epoch - 16ms/step\n",
            "Epoch 21/30\n",
            "668/668 - 13s - loss: 0.0136 - accuracy: 0.9950 - val_loss: 2.0625 - val_accuracy: 0.7660 - 13s/epoch - 20ms/step\n",
            "Epoch 22/30\n",
            "668/668 - 14s - loss: 0.0101 - accuracy: 0.9959 - val_loss: 1.9979 - val_accuracy: 0.7681 - 14s/epoch - 21ms/step\n",
            "Epoch 23/30\n",
            "668/668 - 11s - loss: 0.0183 - accuracy: 0.9935 - val_loss: 1.7383 - val_accuracy: 0.7596 - 11s/epoch - 16ms/step\n",
            "Epoch 24/30\n",
            "668/668 - 14s - loss: 0.0097 - accuracy: 0.9959 - val_loss: 2.0585 - val_accuracy: 0.7580 - 14s/epoch - 20ms/step\n",
            "Epoch 25/30\n",
            "668/668 - 12s - loss: 0.0068 - accuracy: 0.9969 - val_loss: 2.1193 - val_accuracy: 0.7621 - 12s/epoch - 18ms/step\n",
            "Epoch 26/30\n",
            "668/668 - 11s - loss: 0.0056 - accuracy: 0.9975 - val_loss: 2.2836 - val_accuracy: 0.7664 - 11s/epoch - 16ms/step\n",
            "Epoch 27/30\n",
            "668/668 - 14s - loss: 0.0054 - accuracy: 0.9975 - val_loss: 2.2581 - val_accuracy: 0.7596 - 14s/epoch - 21ms/step\n",
            "Epoch 28/30\n",
            "Epoch 29/30\n",
            "668/668 - 13s - loss: 0.0053 - accuracy: 0.9978 - val_loss: 2.4450 - val_accuracy: 0.7591 - 13s/epoch - 19ms/step\n",
            "Epoch 30/30\n",
            "668/668 - 12s - loss: 0.0100 - accuracy: 0.9960 - val_loss: 2.2183 - val_accuracy: 0.7522 - 12s/epoch - 18ms/step\n"
          ]
        }
      ],
      "source": [
        "# train the model on the dataset with 3o epochs and validate on the validation dataset\n",
        "num_epochs = 30\n",
        "history = model_lstm.fit(training_padded, training_labels, epochs=num_epochs, validation_data=(testing_padded, testing_labels), verbose=2)"
      ]
    },
    {
      "cell_type": "markdown",
      "source": [
        "**Plotting**"
      ],
      "metadata": {
        "id": "l3A10WQeiooG"
      }
    },
    {
      "cell_type": "code",
      "execution_count": 84,
      "metadata": {
        "colab": {
          "base_uri": "https://localhost:8080/",
          "height": 881
        },
        "id": "2HYfBKXjkmU8",
        "outputId": "b3e2aa44-2140-4fe3-824e-8626d05209fe"
      },
      "outputs": [
        {
          "output_type": "display_data",
          "data": {
            "text/plain": [
              "<Figure size 640x480 with 1 Axes>"
            ],
            "image/png": "[encoded data removed]"
          },
          "metadata": {}
        },
        {
          "output_type": "display_data",
          "data": {
            "text/plain": [
              "<Figure size 640x480 with 1 Axes>"
            ],
            "image/png": "[encoded data removed]"
          },
          "metadata": {}
        }
      ],
      "source": [
        "import matplotlib.pyplot as plt\n",
        "\n",
        "\n",
        "def plot_graphs(history, string):\n",
        "  plt.plot(history.history[string])\n",
        "  plt.plot(history.history['val_'+string])\n",
        "  plt.xlabel(\"Epochs\")\n",
        "  plt.ylabel(string)\n",
        "  plt.legend([string, 'val_'+string])\n",
        "  plt.show()\n",
        "\n",
        "plot_graphs(history, \"accuracy\")\n",
        "plot_graphs(history, \"loss\")"
      ]
    },
    {
      "cell_type": "code",
      "execution_count": 85,
      "metadata": {
        "colab": {
          "base_uri": "https://localhost:8080/"
        },
        "id": "7SBdAZAenvzL",
        "outputId": "dcca1c1b-4938-40d0-d3f5-ec03953de3f8"
      },
      "outputs": [
        {
          "output_type": "stream",
          "name": "stdout",
          "text": [
            "former <OOV> store clerk sue secret 'black <OOV> minority <OOV> ? ? ? ? ? ? ? ? ? ? ? ? ? ? ? ? ? ? ? ? ? ? ? ? ? ? ? ? ? ? ? ? ? ? ? ? ? ? ? ? ? ? ? ? ? ? ? ? ? ? ? ? ? ? ? ? ? ? ? ? ? ? ? ? ? ? ? ? ? ? ? ? ? ? ? ? ? ? ? ? ? ? ? ? ? ? ? ? ? ? ? ? ? ? ? ? ? ? ? ? ? ? ? ? ? ? ? ? ? ? ? ? ? ? ? ? ? ? ? ? ? ? ? ? ? ? ? ? ? ? ? ? ? ? ? ? ? ? ? ? ? ? ? ? ? ? ? ? ? ? ? ? ? ? ? ? ? ? ? ? ? ? ? ? ? ? ? ? ? ? ? ? ? ? ? ? ? ? ? ? ? ? ? ? ? ? ? ? ? ?\n",
            "former versace store clerk sue secret 'black code' minority shopper \n",
            "0\n"
          ]
        }
      ],
      "source": [
        "# intergers to word mapping for decoding the text\n",
        "reverse_word_index = dict([(value, key) for (key, value) in word_index.items()])\n",
        "\n",
        "def decode_sentence(text):\n",
        "    return ' '.join([reverse_word_index.get(i, '?') for i in text])\n",
        "\n",
        "print(decode_sentence(training_padded[0]))\n",
        "print(training_sentences[0])\n",
        "print(labels[0])"
      ]
    },
    {
      "cell_type": "code",
      "execution_count": 73,
      "metadata": {
        "colab": {
          "base_uri": "https://localhost:8080/"
        },
        "id": "c9MqihtEkzQ9",
        "outputId": "bb1485ee-693c-4dde-b5f0-86bf52301f30"
      },
      "outputs": [
        {
          "output_type": "stream",
          "name": "stdout",
          "text": [
            "(5000, 100)\n"
          ]
        }
      ],
      "source": [
        "e = model_lstm.layers[0]\n",
        "weights = e.get_weights()[0]\n",
        "print(weights.shape) # shape: (vocab_size, embedding_dim)\n"
      ]
    },
    {
      "cell_type": "code",
      "execution_count": null,
      "metadata": {
        "id": "LoBXVffknldU"
      },
      "outputs": [],
      "source": [
        "# SAVE THE WEIGHTS\n",
        "\n",
        "import io\n",
        "\n",
        "out_v = io.open('vecs.tsv', 'w', encoding='utf-8')\n",
        "out_m = io.open('meta.tsv', 'w', encoding='utf-8')\n",
        "for word_num in range(1, vocab_size):\n",
        "  word = reverse_word_index[word_num]\n",
        "  embeddings = weights[word_num]\n",
        "  out_m.write(word + \"\\n\")\n",
        "  out_v.write('\\t'.join([str(x) for x in embeddings]) + \"\\n\")\n",
        "out_v.close()\n",
        "out_m.close()"
      ]
    },
    {
      "cell_type": "code",
      "execution_count": null,
      "metadata": {
        "colab": {
          "base_uri": "https://localhost:8080/",
          "height": 17
        },
        "id": "U4eZ5HtVnnEE",
        "outputId": "389e6e5b-fdde-49d4-8914-f67fa6952875"
      },
      "outputs": [
        {
          "output_type": "display_data",
          "data": {
            "text/plain": [
              "<IPython.core.display.Javascript object>"
            ],
            "application/javascript": [
              "\n",
              "    async function download(id, filename, size) {\n",
              "      if (!google.colab.kernel.accessAllowed) {\n",
              "        return;\n",
              "      }\n",
              "      const div = document.createElement('div');\n",
              "      const label = document.createElement('label');\n",
              "      label.textContent = `Downloading \"${filename}\": `;\n",
              "      div.appendChild(label);\n",
              "      const progress = document.createElement('progress');\n",
              "      progress.max = size;\n",
              "      div.appendChild(progress);\n",
              "      document.body.appendChild(div);\n",
              "\n",
              "      const buffers = [];\n",
              "      let downloaded = 0;\n",
              "\n",
              "      const channel = await google.colab.kernel.comms.open(id);\n",
              "      // Send a message to notify the kernel that we're ready.\n",
              "      channel.send({})\n",
              "\n",
              "      for await (const message of channel.messages) {\n",
              "        // Send a message to notify the kernel that we're ready.\n",
              "        channel.send({})\n",
              "        if (message.buffers) {\n",
              "          for (const buffer of message.buffers) {\n",
              "            buffers.push(buffer);\n",
              "            downloaded += buffer.byteLength;\n",
              "            progress.value = downloaded;\n",
              "          }\n",
              "        }\n",
              "      }\n",
              "      const blob = new Blob(buffers, {type: 'application/binary'});\n",
              "      const a = document.createElement('a');\n",
              "      a.href = window.URL.createObjectURL(blob);\n",
              "      a.download = filename;\n",
              "      div.appendChild(a);\n",
              "      a.click();\n",
              "      div.remove();\n",
              "    }\n",
              "  "
            ]
          },
          "metadata": {}
        },
        {
          "output_type": "display_data",
          "data": {
            "text/plain": [
              "<IPython.core.display.Javascript object>"
            ],
            "application/javascript": [
              "download(\"download_276cba78-5311-4880-9581-5fca3dedef72\", \"vecs.tsv\", 1817785)"
            ]
          },
          "metadata": {}
        },
        {
          "output_type": "display_data",
          "data": {
            "text/plain": [
              "<IPython.core.display.Javascript object>"
            ],
            "application/javascript": [
              "\n",
              "    async function download(id, filename, size) {\n",
              "      if (!google.colab.kernel.accessAllowed) {\n",
              "        return;\n",
              "      }\n",
              "      const div = document.createElement('div');\n",
              "      const label = document.createElement('label');\n",
              "      label.textContent = `Downloading \"${filename}\": `;\n",
              "      div.appendChild(label);\n",
              "      const progress = document.createElement('progress');\n",
              "      progress.max = size;\n",
              "      div.appendChild(progress);\n",
              "      document.body.appendChild(div);\n",
              "\n",
              "      const buffers = [];\n",
              "      let downloaded = 0;\n",
              "\n",
              "      const channel = await google.colab.kernel.comms.open(id);\n",
              "      // Send a message to notify the kernel that we're ready.\n",
              "      channel.send({})\n",
              "\n",
              "      for await (const message of channel.messages) {\n",
              "        // Send a message to notify the kernel that we're ready.\n",
              "        channel.send({})\n",
              "        if (message.buffers) {\n",
              "          for (const buffer of message.buffers) {\n",
              "            buffers.push(buffer);\n",
              "            downloaded += buffer.byteLength;\n",
              "            progress.value = downloaded;\n",
              "          }\n",
              "        }\n",
              "      }\n",
              "      const blob = new Blob(buffers, {type: 'application/binary'});\n",
              "      const a = document.createElement('a');\n",
              "      a.href = window.URL.createObjectURL(blob);\n",
              "      a.download = filename;\n",
              "      div.appendChild(a);\n",
              "      a.click();\n",
              "      div.remove();\n",
              "    }\n",
              "  "
            ]
          },
          "metadata": {}
        },
        {
          "output_type": "display_data",
          "data": {
            "text/plain": [
              "<IPython.core.display.Javascript object>"
            ],
            "application/javascript": [
              "download(\"download_84b53837-5a41-4039-b489-8aec311f7314\", \"meta.tsv\", 75974)"
            ]
          },
          "metadata": {}
        }
      ],
      "source": [
        "# DOWNLAOD\n",
        "try:\n",
        "  from google.colab import files\n",
        "except ImportError:\n",
        "  pass\n",
        "else:\n",
        "  files.download('vecs.tsv')\n",
        "  files.download('meta.tsv')"
      ]
    },
    {
      "cell_type": "code",
      "execution_count": 86,
      "metadata": {
        "colab": {
          "base_uri": "https://localhost:8080/"
        },
        "id": "cG8-ArY-qDcz",
        "outputId": "e007863a-4618-49eb-fc04-b3e12a967e5c"
      },
      "outputs": [
        {
          "output_type": "stream",
          "name": "stdout",
          "text": [
            "1/1 [==============================] - 1s 992ms/step\n",
            " 1 Sarcatic\n",
            " 2 Sarcatic\n",
            " 3 Non Sarcastic\n",
            " 4 Non Sarcastic\n"
          ]
        }
      ],
      "source": [
        "pred_threshold = 0.5 # vary it to see the impact for better performance\n",
        "sentence = [\"granny starting to fear spiders in the garden might be real\", \"game of thrones season finale showing this sunday night\",\n",
        "             \"The weather is getting cold\", \"The quick brown fox jumps over the lazy dog\"]\n",
        "sequences = tokenizer.texts_to_sequences(sentence)\n",
        "padded = pad_sequences(sequences, maxlen=max_length, padding=padding_type, truncating=trunc_type)\n",
        "predictions = model_lstm.predict(padded).squeeze()\n",
        "\n",
        "for ind, prediction in enumerate(predictions):\n",
        "  if float(prediction)>= pred_threshold:\n",
        "    print(f\" {ind + 1} Sarcatic\")\n",
        "  else:\n",
        "    print(f\" {ind + 1} Non Sarcastic\")\n",
        "\n",
        "\n",
        "\n",
        "\n"
      ]
    }
  ],
  "metadata": {
    "accelerator": "GPU",
    "colab": {
      "provenance": [],
      "toc_visible": true,
      "gpuType": "T4"
    },
    "kernelspec": {
      "display_name": "Python 3",
      "name": "python3"
    }
  },
  "nbformat": 4,
  "nbformat_minor": 0
}